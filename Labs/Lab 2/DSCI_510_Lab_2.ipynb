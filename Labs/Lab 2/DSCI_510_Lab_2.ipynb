{
 "cells": [
  {
   "cell_type": "markdown",
   "id": "f85f6209",
   "metadata": {},
   "source": [
    "# Height Converter\n"
   ]
  },
  {
   "cell_type": "code",
   "execution_count": 29,
   "id": "8a4a9c44",
   "metadata": {},
   "outputs": [
    {
     "name": "stdout",
     "output_type": "stream",
     "text": [
      "Height: 5'66\"\n"
     ]
    }
   ],
   "source": [
    "num = int(input(\"Enter height in cm: \"))\n",
    "inches = num / 2.54\n",
    "feet = inches // 12\n",
    "print(f\"Height: {int(feet)}'{int(inches)}\\\"\")"
   ]
  },
  {
   "cell_type": "markdown",
   "id": "c19005e0",
   "metadata": {},
   "source": [
    "# Prime Number"
   ]
  },
  {
   "cell_type": "code",
   "execution_count": 35,
   "id": "878f7f23",
   "metadata": {},
   "outputs": [
    {
     "name": "stdout",
     "output_type": "stream",
     "text": [
      "32 is not a prime number\n"
     ]
    }
   ],
   "source": [
    "num = int(input(\"Enter a number: \"))\n",
    "if num <= 1:\n",
    "    print(f\"{num} is not a prime number\")\n",
    "else:\n",
    "    for i in range(2, int(num/2)+1):\n",
    "        if (num % i) == 0:\n",
    "            print(f\"{num} is not a prime number\")\n",
    "            break\n",
    "    else:\n",
    "        print(f\"{num} is a prime number\")"
   ]
  },
  {
   "cell_type": "markdown",
   "id": "8dc0dc83",
   "metadata": {},
   "source": [
    "# Bitwise Password Encoder"
   ]
  },
  {
   "cell_type": "code",
   "execution_count": 36,
   "id": "df96ebbd",
   "metadata": {},
   "outputs": [
    {
     "name": "stdout",
     "output_type": "stream",
     "text": [
      "Encoded password: 4524\n",
      "Decoded password: 4567\n"
     ]
    }
   ],
   "source": [
    "key = int(input(\"Enter private key: \"))\n",
    "num_password = int(input(\"Enter numeric password: \"))\n",
    "encoded_password = num_password ^ key\n",
    "print(f\"Encoded password: {encoded_password}\")\n",
    "decoded_password = encoded_password ^ key\n",
    "print(f\"Decoded password: {decoded_password}\")"
   ]
  }
 ],
 "metadata": {
  "kernelspec": {
   "display_name": "base",
   "language": "python",
   "name": "python3"
  },
  "language_info": {
   "codemirror_mode": {
    "name": "ipython",
    "version": 3
   },
   "file_extension": ".py",
   "mimetype": "text/x-python",
   "name": "python",
   "nbconvert_exporter": "python",
   "pygments_lexer": "ipython3",
   "version": "3.13.5"
  }
 },
 "nbformat": 4,
 "nbformat_minor": 5
}
