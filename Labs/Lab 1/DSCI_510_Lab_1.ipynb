{
 "cells": [
  {
   "cell_type": "markdown",
   "id": "04951aad",
   "metadata": {},
   "source": [
    "# Q1\n"
   ]
  },
  {
   "cell_type": "code",
   "execution_count": 1,
   "id": "080c34ca",
   "metadata": {},
   "outputs": [
    {
     "name": "stdout",
     "output_type": "stream",
     "text": [
      "Total pay: $90.000000\n"
     ]
    }
   ],
   "source": [
    "hours_worked = 5\n",
    "hourly_rate = 18\n",
    "if hours_worked > 8:\n",
    "    overtime_hours = hourly_rate * 1.25 \n",
    "    total_pay = (hours_worked * hourly_rate) + overtime_hours\n",
    "    print(f\"Total pay: ${total_pay:2f}\")\n",
    "else:\n",
    "    total_pay = hours_worked * hourly_rate\n",
    "    print(f\"Total pay: ${total_pay:2f}\")"
   ]
  },
  {
   "cell_type": "markdown",
   "id": "8839b138",
   "metadata": {},
   "source": [
    "# Q2\n"
   ]
  },
  {
   "cell_type": "code",
   "execution_count": 2,
   "id": "ac04381a",
   "metadata": {},
   "outputs": [
    {
     "name": "stdout",
     "output_type": "stream",
     "text": [
      "Discount total: $136.000000\n",
      "Discount percentage: 15.000000\n",
      "Total cost: $83912.000000\n",
      "Total Jackets: 735.000000\n"
     ]
    }
   ],
   "source": [
    "# 1\n",
    "jacket_one_price = 80\n",
    "jacket_two_price = jacket_one_price * 0.70\n",
    "discount_total_cost = jacket_one_price + jacket_two_price\n",
    "print(f\"Discount total: ${discount_total_cost:2f}\")\n",
    "\n",
    "# 2\n",
    "two_jacket_full_price = jacket_one_price + jacket_one_price\n",
    "discount_amount = discount_total_cost / two_jacket_full_price\n",
    "print(f\"Discount percentage: {(1 - discount_amount) * 100:2f}\")\n",
    "\n",
    "# 3\n",
    "total_deals = 1234 / 2\n",
    "total_cost = total_deals * discount_total_cost\n",
    "print(f\"Total cost: ${total_cost:2f}\")\n",
    "\n",
    "# 4\n",
    "total_possible_jackets = (50000 // discount_total_cost) * 2\n",
    "remaining_budget = (50000 % discount_total_cost) // jacket_one_price\n",
    "print(f\"Total Jackets: {(total_possible_jackets + remaining_budget):2f}\")\n"
   ]
  },
  {
   "cell_type": "markdown",
   "id": "0e2a43c0",
   "metadata": {},
   "source": [
    "# Q3"
   ]
  },
  {
   "cell_type": "code",
   "execution_count": 3,
   "id": "081d1579",
   "metadata": {},
   "outputs": [
    {
     "name": "stdout",
     "output_type": "stream",
     "text": [
      "Total amount: $11248.640000\n",
      "Total penalty paid: $100.000000\n",
      "Total after penalty: $10200.000000\n",
      "Total profit: $2500.000000\n",
      "Average profit per month: $151.111111\n"
     ]
    }
   ],
   "source": [
    "# 1\n",
    "interest_rate = .04\n",
    "initial_investment = 10000\n",
    "total_amount = initial_investment * (1 + interest_rate) ** 3\n",
    "print(f\"Total amount: ${total_amount:2f}\")\n",
    "\n",
    "# 2\n",
    "interest_earned_9_months = initial_investment * interest_rate * (9/12)\n",
    "penalty_3_months = initial_investment * interest_rate * (3/12)\n",
    "print(f\"Total penalty paid: ${penalty_3_months:2f}\")\n",
    "total_after_penalty = initial_investment + interest_earned_9_months - penalty_3_months\n",
    "print(f\"Total after penalty: ${total_after_penalty:2f}\")\n",
    "\n",
    "# 3\n",
    "initial_investment_2 = 50000\n",
    "interest_earned_after_1_year_ = initial_investment_2 * interest_rate ** 1\n",
    "interest_earned_next_6_months = initial_investment_2 * interest_rate * (6/12)\n",
    "penalty_3_months_2 = initial_investment_2 * interest_rate * (3/12)\n",
    "total_interest_earned = interest_earned_after_1_year_ + interest_earned_next_6_months - penalty_3_months_2\n",
    "print(f\"Total profit: ${total_interest_earned:2f}\")\n",
    "\n",
    "# 4\n",
    "total_earned_2_years = initial_investment_2 * (1 + interest_rate) ** 2\n",
    "interest_earned_next_3_months = initial_investment_2 * interest_rate * (3/12)\n",
    "penalty_3_months_3 = initial_investment_2 * interest_rate * (3/12)\n",
    "total_earned_27_months = total_earned_2_years + interest_earned_next_3_months - penalty_3_months_3\n",
    "total_profit = total_earned_27_months - initial_investment_2\n",
    "avg_profit_per_month = total_profit / 27\n",
    "print(f\"Average profit per month: ${avg_profit_per_month:2f}\")"
   ]
  }
 ],
 "metadata": {
  "kernelspec": {
   "display_name": "Python 3",
   "language": "python",
   "name": "python3"
  },
  "language_info": {
   "codemirror_mode": {
    "name": "ipython",
    "version": 3
   },
   "file_extension": ".py",
   "mimetype": "text/x-python",
   "name": "python",
   "nbconvert_exporter": "python",
   "pygments_lexer": "ipython3",
   "version": "3.12.4"
  }
 },
 "nbformat": 4,
 "nbformat_minor": 5
}
