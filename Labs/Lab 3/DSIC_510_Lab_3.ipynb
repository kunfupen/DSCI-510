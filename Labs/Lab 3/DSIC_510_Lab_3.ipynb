{
 "cells": [
  {
   "cell_type": "markdown",
   "id": "c3a2fdd1",
   "metadata": {},
   "source": [
    "# Factorial Calculator"
   ]
  },
  {
   "cell_type": "code",
   "execution_count": null,
   "id": "60ffdea2",
   "metadata": {},
   "outputs": [
    {
     "name": "stdout",
     "output_type": "stream",
     "text": [
      "Invalid input. Please enter a positive integer.\n",
      "5! = 120\n"
     ]
    }
   ],
   "source": [
    "num = input(\"Enter a positive integer: \")\n",
    "while not num.isdigit() or int(num) <= 0:\n",
    "    print(\"Invalid input. Please enter a positive integer.\")\n",
    "    num = input(\"Enter a positive integer: \") \n",
    "else:\n",
    "    factorial = 1\n",
    "    for i in range(1, int(num) + 1):\n",
    "        factorial = factorial * i\n",
    "\n",
    "    print(f\"{num}! = {factorial}\")"
   ]
  },
  {
   "cell_type": "markdown",
   "id": "bc194a02",
   "metadata": {},
   "source": [
    "# Inverse Digit"
   ]
  },
  {
   "cell_type": "code",
   "execution_count": 10,
   "id": "e6e383ef",
   "metadata": {},
   "outputs": [
    {
     "name": "stdout",
     "output_type": "stream",
     "text": [
      "Invalid input. Please enter a positive integer.\n",
      "Reversed number: 4321\n"
     ]
    }
   ],
   "source": [
    "num = input(\"Enter a positive integer: \")\n",
    "while not num.isdigit() or int(num) <= 0:\n",
    "    print(\"Invalid input. Please enter a positive integer.\")\n",
    "    num = input(\"Enter a positive integer: \") \n",
    "else:\n",
    "    num = int(num)\n",
    "    reverse = 0\n",
    "    while num > 0:\n",
    "        digit = num % 10\n",
    "        reverse = reverse * 10 + digit\n",
    "        num = num // 10\n",
    "\n",
    "print(f\"Reversed number: {reverse}\")"
   ]
  },
  {
   "cell_type": "markdown",
   "id": "c77887e9",
   "metadata": {},
   "source": [
    "# Remove Consecutive Duplicates"
   ]
  },
  {
   "cell_type": "code",
   "execution_count": 13,
   "id": "9e439c66",
   "metadata": {},
   "outputs": [
    {
     "name": "stdout",
     "output_type": "stream",
     "text": [
      "Output: abcCde\n"
     ]
    }
   ],
   "source": [
    "s = input(\"Input: \")\n",
    "\n",
    "result = \"\"\n",
    "\n",
    "for i in range(1, len(s)):\n",
    "    if s[i] != s[i - 1]:\n",
    "        result += s[i]\n",
    "\n",
    "print(\"Output:\", s[0] + result)"
   ]
  },
  {
   "cell_type": "markdown",
   "id": "bb838c13",
   "metadata": {},
   "source": [
    "# Guess Number"
   ]
  },
  {
   "cell_type": "code",
   "execution_count": 4,
   "id": "e5cbb505",
   "metadata": {},
   "outputs": [
    {
     "name": "stdout",
     "output_type": "stream",
     "text": [
      "Think of a number between 1 and 100.\n",
      "Is your number 50? \n",
      "Is your number 75? \n",
      "Is your number 62? \n",
      "Is your number 56? \n",
      "Is your number 53? \n",
      "Is your number 54? \n",
      "Is your number 55? \n",
      "The computer guess your number in 7 tries!\n"
     ]
    }
   ],
   "source": [
    "print(\"Think of a number between 1 and 100.\")\n",
    "\n",
    "valid_input = [\"higher\", \"lower\", \"correct\"]\n",
    "        \n",
    "low = 1\n",
    "high = 100\n",
    "tries = 0\n",
    "\n",
    "while True:\n",
    "    guess = (low + high) // 2\n",
    "    tries += 1\n",
    "\n",
    "    print(f\"Is your number {guess}? \\n\", end=\"\")\n",
    "    \n",
    "    while True:\n",
    "        response = input().strip().lower()\n",
    "        if response in valid_input:\n",
    "            break\n",
    "        else:\n",
    "            print(\"Invalid input. Please respond with 'higher', 'lower', or 'correct'.\")\n",
    "    \n",
    "    if response == \"correct\":\n",
    "        print(f\"The computer guess your number in {tries} tries!\")\n",
    "        break\n",
    "    elif response == \"higher\":\n",
    "        low = guess + 1\n",
    "    elif response == \"lower\":\n",
    "        high = guess - 1"
   ]
  }
 ],
 "metadata": {
  "kernelspec": {
   "display_name": "Python 3",
   "language": "python",
   "name": "python3"
  },
  "language_info": {
   "codemirror_mode": {
    "name": "ipython",
    "version": 3
   },
   "file_extension": ".py",
   "mimetype": "text/x-python",
   "name": "python",
   "nbconvert_exporter": "python",
   "pygments_lexer": "ipython3",
   "version": "3.12.4"
  }
 },
 "nbformat": 4,
 "nbformat_minor": 5
}
